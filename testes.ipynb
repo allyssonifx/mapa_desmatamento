{
 "cells": [
  {
   "cell_type": "code",
   "execution_count": 1,
   "metadata": {},
   "outputs": [],
   "source": [
    "import pandas as pd\n",
    "import plotly.express as px\n",
    "\n",
    "# Carregar o arquivo CSV para um DataFrame do Pandas\n",
    "df = pd.read_excel('dados_atualizacoes.xlsx')\n"
   ]
  },
  {
   "cell_type": "code",
   "execution_count": 2,
   "metadata": {},
   "outputs": [
    {
     "data": {
      "text/plain": [
       "22"
      ]
     },
     "execution_count": 2,
     "metadata": {},
     "output_type": "execute_result"
    }
   ],
   "source": [
    "atts = ['AEG_DATA','AEI_DATA','DM_DATA','DA_DATA','DC_DATA','IA_DATA','IQ_DATA','LDIA_DATA','LDIM_DATA','LDIS_DATA','LESR_DATA','LSTB_DATA','MSP_DATA','PA_DATA','PC_DATA','PVG_DATA','SGPR_DATA','SGPU_DATA','SNPR_DATA','SNPU_DATA','TI_DATA','UC_DATA']\n",
    "len(atts)"
   ]
  },
  {
   "cell_type": "code",
   "execution_count": 3,
   "metadata": {},
   "outputs": [],
   "source": [
    "import random\n",
    "emb = df['embargos']\n",
    "valores = df['tamanho']\n",
    "datas = ['05/01/2022','04/02/2022','01/03/2022','04/04/2022','01/05/2022','03/06/2022','03/07/2022','03/08/2022','03/09/2022','03/10/2022','03/11/2022','03/12/2022']\n",
    "\n",
    "dic = {}\n",
    "for c in range(0,len(emb)):\n",
    "    val = float(valores[c])\n",
    "    nums = []\n",
    "    for _ in range(0,12):\n",
    "        try:\n",
    "            num = random.randint(-int(val*0.15), int(val*0.15))\n",
    "        except:\n",
    "            val = 10000\n",
    "            num = random.randint(-int(val*0.001), int(val*0.15))\n",
    "        val = val+num\n",
    "        nums.append(val)\n",
    "    dic[emb[c]] = nums\n",
    "    dic[atts[c]] = datas"
   ]
  },
  {
   "cell_type": "code",
   "execution_count": 9,
   "metadata": {},
   "outputs": [
    {
     "data": {
      "text/plain": [
       "'10/05/2023'"
      ]
     },
     "execution_count": 9,
     "metadata": {},
     "output_type": "execute_result"
    }
   ],
   "source": [
    "infos = df.query('embargos ==\"AREA_EMBARGADA_GOIAS\"')\n",
    "tudo = [infos['data_att'].iloc[0],infos['data_verif'].iloc[0],infos['data_prox'].iloc[0]]\n"
   ]
  },
  {
   "cell_type": "code",
   "execution_count": 4,
   "metadata": {},
   "outputs": [
    {
     "data": {
      "text/html": [
       "<div>\n",
       "<style scoped>\n",
       "    .dataframe tbody tr th:only-of-type {\n",
       "        vertical-align: middle;\n",
       "    }\n",
       "\n",
       "    .dataframe tbody tr th {\n",
       "        vertical-align: top;\n",
       "    }\n",
       "\n",
       "    .dataframe thead th {\n",
       "        text-align: right;\n",
       "    }\n",
       "</style>\n",
       "<table border=\"1\" class=\"dataframe\">\n",
       "  <thead>\n",
       "    <tr style=\"text-align: right;\">\n",
       "      <th></th>\n",
       "      <th>AREA_EMBARGADA_GOIAS</th>\n",
       "      <th>AEG_DATA</th>\n",
       "      <th>AREA_EMBARGADA_ICMBIO</th>\n",
       "      <th>AEI_DATA</th>\n",
       "      <th>DESMATAMENTO_MAPBIOMAS</th>\n",
       "      <th>DM_DATA</th>\n",
       "      <th>DETER_AMAZONIA</th>\n",
       "      <th>DA_DATA</th>\n",
       "      <th>DETER_CERRADO</th>\n",
       "      <th>DC_DATA</th>\n",
       "      <th>...</th>\n",
       "      <th>SIGEF_PUBLICO</th>\n",
       "      <th>SGPU_DATA</th>\n",
       "      <th>SNCI_PRIVADO</th>\n",
       "      <th>SNPR_DATA</th>\n",
       "      <th>SNCI_PUBLICO</th>\n",
       "      <th>SNPU_DATA</th>\n",
       "      <th>TERRA_INDIGENA</th>\n",
       "      <th>TI_DATA</th>\n",
       "      <th>UNIDADE_CONSERVACAO</th>\n",
       "      <th>UC_DATA</th>\n",
       "    </tr>\n",
       "  </thead>\n",
       "  <tbody>\n",
       "    <tr>\n",
       "      <th>0</th>\n",
       "      <td>7805.0</td>\n",
       "      <td>05/01/2022</td>\n",
       "      <td>10706.0</td>\n",
       "      <td>05/01/2022</td>\n",
       "      <td>10254</td>\n",
       "      <td>05/01/2022</td>\n",
       "      <td>313488.0</td>\n",
       "      <td>05/01/2022</td>\n",
       "      <td>72191.0</td>\n",
       "      <td>05/01/2022</td>\n",
       "      <td>...</td>\n",
       "      <td>10879</td>\n",
       "      <td>05/01/2022</td>\n",
       "      <td>10132</td>\n",
       "      <td>05/01/2022</td>\n",
       "      <td>11478</td>\n",
       "      <td>05/01/2022</td>\n",
       "      <td>633.0</td>\n",
       "      <td>05/01/2022</td>\n",
       "      <td>10874</td>\n",
       "      <td>05/01/2022</td>\n",
       "    </tr>\n",
       "    <tr>\n",
       "      <th>1</th>\n",
       "      <td>7630.0</td>\n",
       "      <td>04/02/2022</td>\n",
       "      <td>12261.0</td>\n",
       "      <td>04/02/2022</td>\n",
       "      <td>10041</td>\n",
       "      <td>04/02/2022</td>\n",
       "      <td>297522.0</td>\n",
       "      <td>04/02/2022</td>\n",
       "      <td>65827.0</td>\n",
       "      <td>04/02/2022</td>\n",
       "      <td>...</td>\n",
       "      <td>9861</td>\n",
       "      <td>04/02/2022</td>\n",
       "      <td>11574</td>\n",
       "      <td>04/02/2022</td>\n",
       "      <td>11336</td>\n",
       "      <td>04/02/2022</td>\n",
       "      <td>578.0</td>\n",
       "      <td>04/02/2022</td>\n",
       "      <td>11950</td>\n",
       "      <td>04/02/2022</td>\n",
       "    </tr>\n",
       "    <tr>\n",
       "      <th>2</th>\n",
       "      <td>7548.0</td>\n",
       "      <td>01/03/2022</td>\n",
       "      <td>13515.0</td>\n",
       "      <td>01/03/2022</td>\n",
       "      <td>9409</td>\n",
       "      <td>01/03/2022</td>\n",
       "      <td>325752.0</td>\n",
       "      <td>01/03/2022</td>\n",
       "      <td>65580.0</td>\n",
       "      <td>01/03/2022</td>\n",
       "      <td>...</td>\n",
       "      <td>10123</td>\n",
       "      <td>01/03/2022</td>\n",
       "      <td>10042</td>\n",
       "      <td>01/03/2022</td>\n",
       "      <td>11989</td>\n",
       "      <td>01/03/2022</td>\n",
       "      <td>507.0</td>\n",
       "      <td>01/03/2022</td>\n",
       "      <td>10526</td>\n",
       "      <td>01/03/2022</td>\n",
       "    </tr>\n",
       "    <tr>\n",
       "      <th>3</th>\n",
       "      <td>7945.0</td>\n",
       "      <td>04/04/2022</td>\n",
       "      <td>12223.0</td>\n",
       "      <td>04/04/2022</td>\n",
       "      <td>8837</td>\n",
       "      <td>04/04/2022</td>\n",
       "      <td>300205.0</td>\n",
       "      <td>04/04/2022</td>\n",
       "      <td>63176.0</td>\n",
       "      <td>04/04/2022</td>\n",
       "      <td>...</td>\n",
       "      <td>9529</td>\n",
       "      <td>04/04/2022</td>\n",
       "      <td>10191</td>\n",
       "      <td>04/04/2022</td>\n",
       "      <td>11003</td>\n",
       "      <td>04/04/2022</td>\n",
       "      <td>571.0</td>\n",
       "      <td>04/04/2022</td>\n",
       "      <td>10935</td>\n",
       "      <td>04/04/2022</td>\n",
       "    </tr>\n",
       "    <tr>\n",
       "      <th>4</th>\n",
       "      <td>8226.0</td>\n",
       "      <td>01/05/2022</td>\n",
       "      <td>10800.0</td>\n",
       "      <td>01/05/2022</td>\n",
       "      <td>8428</td>\n",
       "      <td>01/05/2022</td>\n",
       "      <td>259448.0</td>\n",
       "      <td>01/05/2022</td>\n",
       "      <td>63412.0</td>\n",
       "      <td>01/05/2022</td>\n",
       "      <td>...</td>\n",
       "      <td>8497</td>\n",
       "      <td>01/05/2022</td>\n",
       "      <td>9975</td>\n",
       "      <td>01/05/2022</td>\n",
       "      <td>10851</td>\n",
       "      <td>01/05/2022</td>\n",
       "      <td>509.0</td>\n",
       "      <td>01/05/2022</td>\n",
       "      <td>12170</td>\n",
       "      <td>01/05/2022</td>\n",
       "    </tr>\n",
       "    <tr>\n",
       "      <th>5</th>\n",
       "      <td>7077.0</td>\n",
       "      <td>03/06/2022</td>\n",
       "      <td>10073.0</td>\n",
       "      <td>03/06/2022</td>\n",
       "      <td>8885</td>\n",
       "      <td>03/06/2022</td>\n",
       "      <td>271072.0</td>\n",
       "      <td>03/06/2022</td>\n",
       "      <td>64181.0</td>\n",
       "      <td>03/06/2022</td>\n",
       "      <td>...</td>\n",
       "      <td>8877</td>\n",
       "      <td>03/06/2022</td>\n",
       "      <td>10084</td>\n",
       "      <td>03/06/2022</td>\n",
       "      <td>9988</td>\n",
       "      <td>03/06/2022</td>\n",
       "      <td>568.0</td>\n",
       "      <td>03/06/2022</td>\n",
       "      <td>13414</td>\n",
       "      <td>03/06/2022</td>\n",
       "    </tr>\n",
       "    <tr>\n",
       "      <th>6</th>\n",
       "      <td>7920.0</td>\n",
       "      <td>03/07/2022</td>\n",
       "      <td>11533.0</td>\n",
       "      <td>03/07/2022</td>\n",
       "      <td>8608</td>\n",
       "      <td>03/07/2022</td>\n",
       "      <td>252510.0</td>\n",
       "      <td>03/07/2022</td>\n",
       "      <td>69721.0</td>\n",
       "      <td>03/07/2022</td>\n",
       "      <td>...</td>\n",
       "      <td>8499</td>\n",
       "      <td>03/07/2022</td>\n",
       "      <td>10323</td>\n",
       "      <td>03/07/2022</td>\n",
       "      <td>9145</td>\n",
       "      <td>03/07/2022</td>\n",
       "      <td>568.0</td>\n",
       "      <td>03/07/2022</td>\n",
       "      <td>12900</td>\n",
       "      <td>03/07/2022</td>\n",
       "    </tr>\n",
       "    <tr>\n",
       "      <th>7</th>\n",
       "      <td>7380.0</td>\n",
       "      <td>03/08/2022</td>\n",
       "      <td>11012.0</td>\n",
       "      <td>03/08/2022</td>\n",
       "      <td>8848</td>\n",
       "      <td>03/08/2022</td>\n",
       "      <td>242793.0</td>\n",
       "      <td>03/08/2022</td>\n",
       "      <td>65813.0</td>\n",
       "      <td>03/08/2022</td>\n",
       "      <td>...</td>\n",
       "      <td>9495</td>\n",
       "      <td>03/08/2022</td>\n",
       "      <td>9956</td>\n",
       "      <td>03/08/2022</td>\n",
       "      <td>9593</td>\n",
       "      <td>03/08/2022</td>\n",
       "      <td>593.0</td>\n",
       "      <td>03/08/2022</td>\n",
       "      <td>12361</td>\n",
       "      <td>03/08/2022</td>\n",
       "    </tr>\n",
       "    <tr>\n",
       "      <th>8</th>\n",
       "      <td>7621.0</td>\n",
       "      <td>03/09/2022</td>\n",
       "      <td>11253.0</td>\n",
       "      <td>03/09/2022</td>\n",
       "      <td>9894</td>\n",
       "      <td>03/09/2022</td>\n",
       "      <td>250120.0</td>\n",
       "      <td>03/09/2022</td>\n",
       "      <td>74492.0</td>\n",
       "      <td>03/09/2022</td>\n",
       "      <td>...</td>\n",
       "      <td>10548</td>\n",
       "      <td>03/09/2022</td>\n",
       "      <td>10036</td>\n",
       "      <td>03/09/2022</td>\n",
       "      <td>8273</td>\n",
       "      <td>03/09/2022</td>\n",
       "      <td>509.0</td>\n",
       "      <td>03/09/2022</td>\n",
       "      <td>11371</td>\n",
       "      <td>03/09/2022</td>\n",
       "    </tr>\n",
       "    <tr>\n",
       "      <th>9</th>\n",
       "      <td>8528.0</td>\n",
       "      <td>03/10/2022</td>\n",
       "      <td>12687.0</td>\n",
       "      <td>03/10/2022</td>\n",
       "      <td>10796</td>\n",
       "      <td>03/10/2022</td>\n",
       "      <td>215974.0</td>\n",
       "      <td>03/10/2022</td>\n",
       "      <td>68817.0</td>\n",
       "      <td>03/10/2022</td>\n",
       "      <td>...</td>\n",
       "      <td>11526</td>\n",
       "      <td>03/10/2022</td>\n",
       "      <td>10932</td>\n",
       "      <td>03/10/2022</td>\n",
       "      <td>7815</td>\n",
       "      <td>03/10/2022</td>\n",
       "      <td>581.0</td>\n",
       "      <td>03/10/2022</td>\n",
       "      <td>12428</td>\n",
       "      <td>03/10/2022</td>\n",
       "    </tr>\n",
       "    <tr>\n",
       "      <th>10</th>\n",
       "      <td>8316.0</td>\n",
       "      <td>03/11/2022</td>\n",
       "      <td>12853.0</td>\n",
       "      <td>03/11/2022</td>\n",
       "      <td>10418</td>\n",
       "      <td>03/11/2022</td>\n",
       "      <td>218035.0</td>\n",
       "      <td>03/11/2022</td>\n",
       "      <td>71142.0</td>\n",
       "      <td>03/11/2022</td>\n",
       "      <td>...</td>\n",
       "      <td>12999</td>\n",
       "      <td>03/11/2022</td>\n",
       "      <td>10978</td>\n",
       "      <td>03/11/2022</td>\n",
       "      <td>7916</td>\n",
       "      <td>03/11/2022</td>\n",
       "      <td>509.0</td>\n",
       "      <td>03/11/2022</td>\n",
       "      <td>13782</td>\n",
       "      <td>03/11/2022</td>\n",
       "    </tr>\n",
       "    <tr>\n",
       "      <th>11</th>\n",
       "      <td>8997.0</td>\n",
       "      <td>03/12/2022</td>\n",
       "      <td>12067.0</td>\n",
       "      <td>03/12/2022</td>\n",
       "      <td>8864</td>\n",
       "      <td>03/12/2022</td>\n",
       "      <td>231061.0</td>\n",
       "      <td>03/12/2022</td>\n",
       "      <td>71359.0</td>\n",
       "      <td>03/12/2022</td>\n",
       "      <td>...</td>\n",
       "      <td>11253</td>\n",
       "      <td>03/12/2022</td>\n",
       "      <td>11154</td>\n",
       "      <td>03/12/2022</td>\n",
       "      <td>7893</td>\n",
       "      <td>03/12/2022</td>\n",
       "      <td>582.0</td>\n",
       "      <td>03/12/2022</td>\n",
       "      <td>14771</td>\n",
       "      <td>03/12/2022</td>\n",
       "    </tr>\n",
       "  </tbody>\n",
       "</table>\n",
       "<p>12 rows × 44 columns</p>\n",
       "</div>"
      ],
      "text/plain": [
       "    AREA_EMBARGADA_GOIAS    AEG_DATA  AREA_EMBARGADA_ICMBIO    AEI_DATA  \\\n",
       "0                 7805.0  05/01/2022                10706.0  05/01/2022   \n",
       "1                 7630.0  04/02/2022                12261.0  04/02/2022   \n",
       "2                 7548.0  01/03/2022                13515.0  01/03/2022   \n",
       "3                 7945.0  04/04/2022                12223.0  04/04/2022   \n",
       "4                 8226.0  01/05/2022                10800.0  01/05/2022   \n",
       "5                 7077.0  03/06/2022                10073.0  03/06/2022   \n",
       "6                 7920.0  03/07/2022                11533.0  03/07/2022   \n",
       "7                 7380.0  03/08/2022                11012.0  03/08/2022   \n",
       "8                 7621.0  03/09/2022                11253.0  03/09/2022   \n",
       "9                 8528.0  03/10/2022                12687.0  03/10/2022   \n",
       "10                8316.0  03/11/2022                12853.0  03/11/2022   \n",
       "11                8997.0  03/12/2022                12067.0  03/12/2022   \n",
       "\n",
       "    DESMATAMENTO_MAPBIOMAS     DM_DATA  DETER_AMAZONIA     DA_DATA  \\\n",
       "0                    10254  05/01/2022        313488.0  05/01/2022   \n",
       "1                    10041  04/02/2022        297522.0  04/02/2022   \n",
       "2                     9409  01/03/2022        325752.0  01/03/2022   \n",
       "3                     8837  04/04/2022        300205.0  04/04/2022   \n",
       "4                     8428  01/05/2022        259448.0  01/05/2022   \n",
       "5                     8885  03/06/2022        271072.0  03/06/2022   \n",
       "6                     8608  03/07/2022        252510.0  03/07/2022   \n",
       "7                     8848  03/08/2022        242793.0  03/08/2022   \n",
       "8                     9894  03/09/2022        250120.0  03/09/2022   \n",
       "9                    10796  03/10/2022        215974.0  03/10/2022   \n",
       "10                   10418  03/11/2022        218035.0  03/11/2022   \n",
       "11                    8864  03/12/2022        231061.0  03/12/2022   \n",
       "\n",
       "    DETER_CERRADO     DC_DATA  ...  SIGEF_PUBLICO   SGPU_DATA  SNCI_PRIVADO  \\\n",
       "0         72191.0  05/01/2022  ...          10879  05/01/2022         10132   \n",
       "1         65827.0  04/02/2022  ...           9861  04/02/2022         11574   \n",
       "2         65580.0  01/03/2022  ...          10123  01/03/2022         10042   \n",
       "3         63176.0  04/04/2022  ...           9529  04/04/2022         10191   \n",
       "4         63412.0  01/05/2022  ...           8497  01/05/2022          9975   \n",
       "5         64181.0  03/06/2022  ...           8877  03/06/2022         10084   \n",
       "6         69721.0  03/07/2022  ...           8499  03/07/2022         10323   \n",
       "7         65813.0  03/08/2022  ...           9495  03/08/2022          9956   \n",
       "8         74492.0  03/09/2022  ...          10548  03/09/2022         10036   \n",
       "9         68817.0  03/10/2022  ...          11526  03/10/2022         10932   \n",
       "10        71142.0  03/11/2022  ...          12999  03/11/2022         10978   \n",
       "11        71359.0  03/12/2022  ...          11253  03/12/2022         11154   \n",
       "\n",
       "     SNPR_DATA  SNCI_PUBLICO   SNPU_DATA  TERRA_INDIGENA     TI_DATA  \\\n",
       "0   05/01/2022         11478  05/01/2022           633.0  05/01/2022   \n",
       "1   04/02/2022         11336  04/02/2022           578.0  04/02/2022   \n",
       "2   01/03/2022         11989  01/03/2022           507.0  01/03/2022   \n",
       "3   04/04/2022         11003  04/04/2022           571.0  04/04/2022   \n",
       "4   01/05/2022         10851  01/05/2022           509.0  01/05/2022   \n",
       "5   03/06/2022          9988  03/06/2022           568.0  03/06/2022   \n",
       "6   03/07/2022          9145  03/07/2022           568.0  03/07/2022   \n",
       "7   03/08/2022          9593  03/08/2022           593.0  03/08/2022   \n",
       "8   03/09/2022          8273  03/09/2022           509.0  03/09/2022   \n",
       "9   03/10/2022          7815  03/10/2022           581.0  03/10/2022   \n",
       "10  03/11/2022          7916  03/11/2022           509.0  03/11/2022   \n",
       "11  03/12/2022          7893  03/12/2022           582.0  03/12/2022   \n",
       "\n",
       "    UNIDADE_CONSERVACAO     UC_DATA  \n",
       "0                 10874  05/01/2022  \n",
       "1                 11950  04/02/2022  \n",
       "2                 10526  01/03/2022  \n",
       "3                 10935  04/04/2022  \n",
       "4                 12170  01/05/2022  \n",
       "5                 13414  03/06/2022  \n",
       "6                 12900  03/07/2022  \n",
       "7                 12361  03/08/2022  \n",
       "8                 11371  03/09/2022  \n",
       "9                 12428  03/10/2022  \n",
       "10                13782  03/11/2022  \n",
       "11                14771  03/12/2022  \n",
       "\n",
       "[12 rows x 44 columns]"
      ]
     },
     "execution_count": 4,
     "metadata": {},
     "output_type": "execute_result"
    }
   ],
   "source": [
    "df2 = pd.DataFrame(dic)\n",
    "df2"
   ]
  },
  {
   "cell_type": "code",
   "execution_count": 5,
   "metadata": {},
   "outputs": [
    {
     "data": {
      "application/vnd.plotly.v1+json": {
       "config": {
        "plotlyServerURL": "https://plot.ly"
       },
       "data": [
        {
         "type": "scatter",
         "x": [
          "05/01/2022",
          "04/02/2022",
          "01/03/2022",
          "04/04/2022",
          "01/05/2022",
          "03/06/2022",
          "03/07/2022",
          "03/08/2022",
          "03/09/2022",
          "03/10/2022",
          "03/11/2022",
          "03/12/2022"
         ],
         "y": [
          7805,
          7630,
          7548,
          7945,
          8226,
          7077,
          7920,
          7380,
          7621,
          8528,
          8316,
          8997
         ]
        }
       ],
       "layout": {
        "template": {
         "data": {
          "bar": [
           {
            "error_x": {
             "color": "#2a3f5f"
            },
            "error_y": {
             "color": "#2a3f5f"
            },
            "marker": {
             "line": {
              "color": "#E5ECF6",
              "width": 0.5
             },
             "pattern": {
              "fillmode": "overlay",
              "size": 10,
              "solidity": 0.2
             }
            },
            "type": "bar"
           }
          ],
          "barpolar": [
           {
            "marker": {
             "line": {
              "color": "#E5ECF6",
              "width": 0.5
             },
             "pattern": {
              "fillmode": "overlay",
              "size": 10,
              "solidity": 0.2
             }
            },
            "type": "barpolar"
           }
          ],
          "carpet": [
           {
            "aaxis": {
             "endlinecolor": "#2a3f5f",
             "gridcolor": "white",
             "linecolor": "white",
             "minorgridcolor": "white",
             "startlinecolor": "#2a3f5f"
            },
            "baxis": {
             "endlinecolor": "#2a3f5f",
             "gridcolor": "white",
             "linecolor": "white",
             "minorgridcolor": "white",
             "startlinecolor": "#2a3f5f"
            },
            "type": "carpet"
           }
          ],
          "choropleth": [
           {
            "colorbar": {
             "outlinewidth": 0,
             "ticks": ""
            },
            "type": "choropleth"
           }
          ],
          "contour": [
           {
            "colorbar": {
             "outlinewidth": 0,
             "ticks": ""
            },
            "colorscale": [
             [
              0,
              "#0d0887"
             ],
             [
              0.1111111111111111,
              "#46039f"
             ],
             [
              0.2222222222222222,
              "#7201a8"
             ],
             [
              0.3333333333333333,
              "#9c179e"
             ],
             [
              0.4444444444444444,
              "#bd3786"
             ],
             [
              0.5555555555555556,
              "#d8576b"
             ],
             [
              0.6666666666666666,
              "#ed7953"
             ],
             [
              0.7777777777777778,
              "#fb9f3a"
             ],
             [
              0.8888888888888888,
              "#fdca26"
             ],
             [
              1,
              "#f0f921"
             ]
            ],
            "type": "contour"
           }
          ],
          "contourcarpet": [
           {
            "colorbar": {
             "outlinewidth": 0,
             "ticks": ""
            },
            "type": "contourcarpet"
           }
          ],
          "heatmap": [
           {
            "colorbar": {
             "outlinewidth": 0,
             "ticks": ""
            },
            "colorscale": [
             [
              0,
              "#0d0887"
             ],
             [
              0.1111111111111111,
              "#46039f"
             ],
             [
              0.2222222222222222,
              "#7201a8"
             ],
             [
              0.3333333333333333,
              "#9c179e"
             ],
             [
              0.4444444444444444,
              "#bd3786"
             ],
             [
              0.5555555555555556,
              "#d8576b"
             ],
             [
              0.6666666666666666,
              "#ed7953"
             ],
             [
              0.7777777777777778,
              "#fb9f3a"
             ],
             [
              0.8888888888888888,
              "#fdca26"
             ],
             [
              1,
              "#f0f921"
             ]
            ],
            "type": "heatmap"
           }
          ],
          "heatmapgl": [
           {
            "colorbar": {
             "outlinewidth": 0,
             "ticks": ""
            },
            "colorscale": [
             [
              0,
              "#0d0887"
             ],
             [
              0.1111111111111111,
              "#46039f"
             ],
             [
              0.2222222222222222,
              "#7201a8"
             ],
             [
              0.3333333333333333,
              "#9c179e"
             ],
             [
              0.4444444444444444,
              "#bd3786"
             ],
             [
              0.5555555555555556,
              "#d8576b"
             ],
             [
              0.6666666666666666,
              "#ed7953"
             ],
             [
              0.7777777777777778,
              "#fb9f3a"
             ],
             [
              0.8888888888888888,
              "#fdca26"
             ],
             [
              1,
              "#f0f921"
             ]
            ],
            "type": "heatmapgl"
           }
          ],
          "histogram": [
           {
            "marker": {
             "pattern": {
              "fillmode": "overlay",
              "size": 10,
              "solidity": 0.2
             }
            },
            "type": "histogram"
           }
          ],
          "histogram2d": [
           {
            "colorbar": {
             "outlinewidth": 0,
             "ticks": ""
            },
            "colorscale": [
             [
              0,
              "#0d0887"
             ],
             [
              0.1111111111111111,
              "#46039f"
             ],
             [
              0.2222222222222222,
              "#7201a8"
             ],
             [
              0.3333333333333333,
              "#9c179e"
             ],
             [
              0.4444444444444444,
              "#bd3786"
             ],
             [
              0.5555555555555556,
              "#d8576b"
             ],
             [
              0.6666666666666666,
              "#ed7953"
             ],
             [
              0.7777777777777778,
              "#fb9f3a"
             ],
             [
              0.8888888888888888,
              "#fdca26"
             ],
             [
              1,
              "#f0f921"
             ]
            ],
            "type": "histogram2d"
           }
          ],
          "histogram2dcontour": [
           {
            "colorbar": {
             "outlinewidth": 0,
             "ticks": ""
            },
            "colorscale": [
             [
              0,
              "#0d0887"
             ],
             [
              0.1111111111111111,
              "#46039f"
             ],
             [
              0.2222222222222222,
              "#7201a8"
             ],
             [
              0.3333333333333333,
              "#9c179e"
             ],
             [
              0.4444444444444444,
              "#bd3786"
             ],
             [
              0.5555555555555556,
              "#d8576b"
             ],
             [
              0.6666666666666666,
              "#ed7953"
             ],
             [
              0.7777777777777778,
              "#fb9f3a"
             ],
             [
              0.8888888888888888,
              "#fdca26"
             ],
             [
              1,
              "#f0f921"
             ]
            ],
            "type": "histogram2dcontour"
           }
          ],
          "mesh3d": [
           {
            "colorbar": {
             "outlinewidth": 0,
             "ticks": ""
            },
            "type": "mesh3d"
           }
          ],
          "parcoords": [
           {
            "line": {
             "colorbar": {
              "outlinewidth": 0,
              "ticks": ""
             }
            },
            "type": "parcoords"
           }
          ],
          "pie": [
           {
            "automargin": true,
            "type": "pie"
           }
          ],
          "scatter": [
           {
            "fillpattern": {
             "fillmode": "overlay",
             "size": 10,
             "solidity": 0.2
            },
            "type": "scatter"
           }
          ],
          "scatter3d": [
           {
            "line": {
             "colorbar": {
              "outlinewidth": 0,
              "ticks": ""
             }
            },
            "marker": {
             "colorbar": {
              "outlinewidth": 0,
              "ticks": ""
             }
            },
            "type": "scatter3d"
           }
          ],
          "scattercarpet": [
           {
            "marker": {
             "colorbar": {
              "outlinewidth": 0,
              "ticks": ""
             }
            },
            "type": "scattercarpet"
           }
          ],
          "scattergeo": [
           {
            "marker": {
             "colorbar": {
              "outlinewidth": 0,
              "ticks": ""
             }
            },
            "type": "scattergeo"
           }
          ],
          "scattergl": [
           {
            "marker": {
             "colorbar": {
              "outlinewidth": 0,
              "ticks": ""
             }
            },
            "type": "scattergl"
           }
          ],
          "scattermapbox": [
           {
            "marker": {
             "colorbar": {
              "outlinewidth": 0,
              "ticks": ""
             }
            },
            "type": "scattermapbox"
           }
          ],
          "scatterpolar": [
           {
            "marker": {
             "colorbar": {
              "outlinewidth": 0,
              "ticks": ""
             }
            },
            "type": "scatterpolar"
           }
          ],
          "scatterpolargl": [
           {
            "marker": {
             "colorbar": {
              "outlinewidth": 0,
              "ticks": ""
             }
            },
            "type": "scatterpolargl"
           }
          ],
          "scatterternary": [
           {
            "marker": {
             "colorbar": {
              "outlinewidth": 0,
              "ticks": ""
             }
            },
            "type": "scatterternary"
           }
          ],
          "surface": [
           {
            "colorbar": {
             "outlinewidth": 0,
             "ticks": ""
            },
            "colorscale": [
             [
              0,
              "#0d0887"
             ],
             [
              0.1111111111111111,
              "#46039f"
             ],
             [
              0.2222222222222222,
              "#7201a8"
             ],
             [
              0.3333333333333333,
              "#9c179e"
             ],
             [
              0.4444444444444444,
              "#bd3786"
             ],
             [
              0.5555555555555556,
              "#d8576b"
             ],
             [
              0.6666666666666666,
              "#ed7953"
             ],
             [
              0.7777777777777778,
              "#fb9f3a"
             ],
             [
              0.8888888888888888,
              "#fdca26"
             ],
             [
              1,
              "#f0f921"
             ]
            ],
            "type": "surface"
           }
          ],
          "table": [
           {
            "cells": {
             "fill": {
              "color": "#EBF0F8"
             },
             "line": {
              "color": "white"
             }
            },
            "header": {
             "fill": {
              "color": "#C8D4E3"
             },
             "line": {
              "color": "white"
             }
            },
            "type": "table"
           }
          ]
         },
         "layout": {
          "annotationdefaults": {
           "arrowcolor": "#2a3f5f",
           "arrowhead": 0,
           "arrowwidth": 1
          },
          "autotypenumbers": "strict",
          "coloraxis": {
           "colorbar": {
            "outlinewidth": 0,
            "ticks": ""
           }
          },
          "colorscale": {
           "diverging": [
            [
             0,
             "#8e0152"
            ],
            [
             0.1,
             "#c51b7d"
            ],
            [
             0.2,
             "#de77ae"
            ],
            [
             0.3,
             "#f1b6da"
            ],
            [
             0.4,
             "#fde0ef"
            ],
            [
             0.5,
             "#f7f7f7"
            ],
            [
             0.6,
             "#e6f5d0"
            ],
            [
             0.7,
             "#b8e186"
            ],
            [
             0.8,
             "#7fbc41"
            ],
            [
             0.9,
             "#4d9221"
            ],
            [
             1,
             "#276419"
            ]
           ],
           "sequential": [
            [
             0,
             "#0d0887"
            ],
            [
             0.1111111111111111,
             "#46039f"
            ],
            [
             0.2222222222222222,
             "#7201a8"
            ],
            [
             0.3333333333333333,
             "#9c179e"
            ],
            [
             0.4444444444444444,
             "#bd3786"
            ],
            [
             0.5555555555555556,
             "#d8576b"
            ],
            [
             0.6666666666666666,
             "#ed7953"
            ],
            [
             0.7777777777777778,
             "#fb9f3a"
            ],
            [
             0.8888888888888888,
             "#fdca26"
            ],
            [
             1,
             "#f0f921"
            ]
           ],
           "sequentialminus": [
            [
             0,
             "#0d0887"
            ],
            [
             0.1111111111111111,
             "#46039f"
            ],
            [
             0.2222222222222222,
             "#7201a8"
            ],
            [
             0.3333333333333333,
             "#9c179e"
            ],
            [
             0.4444444444444444,
             "#bd3786"
            ],
            [
             0.5555555555555556,
             "#d8576b"
            ],
            [
             0.6666666666666666,
             "#ed7953"
            ],
            [
             0.7777777777777778,
             "#fb9f3a"
            ],
            [
             0.8888888888888888,
             "#fdca26"
            ],
            [
             1,
             "#f0f921"
            ]
           ]
          },
          "colorway": [
           "#636efa",
           "#EF553B",
           "#00cc96",
           "#ab63fa",
           "#FFA15A",
           "#19d3f3",
           "#FF6692",
           "#B6E880",
           "#FF97FF",
           "#FECB52"
          ],
          "font": {
           "color": "#2a3f5f"
          },
          "geo": {
           "bgcolor": "white",
           "lakecolor": "white",
           "landcolor": "#E5ECF6",
           "showlakes": true,
           "showland": true,
           "subunitcolor": "white"
          },
          "hoverlabel": {
           "align": "left"
          },
          "hovermode": "closest",
          "mapbox": {
           "style": "light"
          },
          "paper_bgcolor": "white",
          "plot_bgcolor": "#E5ECF6",
          "polar": {
           "angularaxis": {
            "gridcolor": "white",
            "linecolor": "white",
            "ticks": ""
           },
           "bgcolor": "#E5ECF6",
           "radialaxis": {
            "gridcolor": "white",
            "linecolor": "white",
            "ticks": ""
           }
          },
          "scene": {
           "xaxis": {
            "backgroundcolor": "#E5ECF6",
            "gridcolor": "white",
            "gridwidth": 2,
            "linecolor": "white",
            "showbackground": true,
            "ticks": "",
            "zerolinecolor": "white"
           },
           "yaxis": {
            "backgroundcolor": "#E5ECF6",
            "gridcolor": "white",
            "gridwidth": 2,
            "linecolor": "white",
            "showbackground": true,
            "ticks": "",
            "zerolinecolor": "white"
           },
           "zaxis": {
            "backgroundcolor": "#E5ECF6",
            "gridcolor": "white",
            "gridwidth": 2,
            "linecolor": "white",
            "showbackground": true,
            "ticks": "",
            "zerolinecolor": "white"
           }
          },
          "shapedefaults": {
           "line": {
            "color": "#2a3f5f"
           }
          },
          "ternary": {
           "aaxis": {
            "gridcolor": "white",
            "linecolor": "white",
            "ticks": ""
           },
           "baxis": {
            "gridcolor": "white",
            "linecolor": "white",
            "ticks": ""
           },
           "bgcolor": "#E5ECF6",
           "caxis": {
            "gridcolor": "white",
            "linecolor": "white",
            "ticks": ""
           }
          },
          "title": {
           "x": 0.05
          },
          "xaxis": {
           "automargin": true,
           "gridcolor": "white",
           "linecolor": "white",
           "ticks": "",
           "title": {
            "standoff": 15
           },
           "zerolinecolor": "white",
           "zerolinewidth": 2
          },
          "yaxis": {
           "automargin": true,
           "gridcolor": "white",
           "linecolor": "white",
           "ticks": "",
           "title": {
            "standoff": 15
           },
           "zerolinecolor": "white",
           "zerolinewidth": 2
          }
         }
        },
        "title": {
         "text": "Quantidade de dados nos últimos 12 meses"
        },
        "xaxis": {
         "title": {
          "text": "DATAS"
         }
        },
        "yaxis": {
         "title": {
          "text": "Dados"
         }
        }
       }
      }
     },
     "metadata": {},
     "output_type": "display_data"
    }
   ],
   "source": [
    "import plotly.graph_objects as go\n",
    "\n",
    "\n",
    "\n",
    "fig = go.Figure(data=go.Scatter(x=df2['AEG_DATA'], y=df2['AREA_EMBARGADA_GOIAS']))\n",
    "\n",
    "fig.update_layout(\n",
    "    title='Quantidade de dados nos últimos 12 meses',\n",
    "    xaxis_title='DATAS',\n",
    "    yaxis_title='Dados'\n",
    ")\n",
    "\n",
    "fig.show()\n"
   ]
  },
  {
   "cell_type": "code",
   "execution_count": 16,
   "metadata": {},
   "outputs": [
    {
     "data": {
      "text/plain": [
       "Index(['AREA_EMBARGADA_GOIAS', 'AREA_EMBARGADA_ICMBIO',\n",
       "       'DESMATAMENTO_MAPBIOMAS', 'DETER_AMAZONIA', 'DETER_CERRADO',\n",
       "       'INCRA_ASSENTAMENTOS', 'INCRA_QUILOMBOLAS', 'LDI_AUTOMATIZADO',\n",
       "       'LDI_MANUAL', 'LDI_SEMSOBREP', 'LISTA_EMBARGOS_SEDAM_RO',\n",
       "       'LISTA_SUJA_TRABALHO_ESCRAVO', 'MORATORIA_SOJA_PONTOS',\n",
       "       'PRODES_AMAZONIA', 'PRODES_CERRADO', 'PROTOCOLO_VERDE_GRAOS',\n",
       "       'SIGEF_PRIVADO', 'SIGEF_PUBLICO', 'SNCI_PRIVADO', 'SNCI_PUBLICO',\n",
       "       'TERRA_INDIGENA', 'UNIDADE_CONSERVACAO'],\n",
       "      dtype='object')"
      ]
     },
     "execution_count": 16,
     "metadata": {},
     "output_type": "execute_result"
    }
   ],
   "source": [
    "df2.columns"
   ]
  },
  {
   "cell_type": "code",
   "execution_count": 3,
   "metadata": {},
   "outputs": [],
   "source": [
    "fig = px.bar(df, x='embargos', y=['data_att', 'data_verif', 'data_prox'],\n",
    "             barmode='group')"
   ]
  },
  {
   "cell_type": "code",
   "execution_count": 4,
   "metadata": {},
   "outputs": [
    {
     "ename": "ValueError",
     "evalue": "Mime type rendering requires nbformat>=4.2.0 but it is not installed",
     "output_type": "error",
     "traceback": [
      "\u001b[1;31m---------------------------------------------------------------------------\u001b[0m",
      "\u001b[1;31mValueError\u001b[0m                                Traceback (most recent call last)",
      "File \u001b[1;32m~\\AppData\\Roaming\\Python\\Python310\\site-packages\\IPython\\core\\formatters.py:920\u001b[0m, in \u001b[0;36mIPythonDisplayFormatter.__call__\u001b[1;34m(self, obj)\u001b[0m\n\u001b[0;32m    918\u001b[0m method \u001b[39m=\u001b[39m get_real_method(obj, \u001b[39mself\u001b[39m\u001b[39m.\u001b[39mprint_method)\n\u001b[0;32m    919\u001b[0m \u001b[39mif\u001b[39;00m method \u001b[39mis\u001b[39;00m \u001b[39mnot\u001b[39;00m \u001b[39mNone\u001b[39;00m:\n\u001b[1;32m--> 920\u001b[0m     method()\n\u001b[0;32m    921\u001b[0m     \u001b[39mreturn\u001b[39;00m \u001b[39mTrue\u001b[39;00m\n",
      "File \u001b[1;32mc:\\Users\\allysson.muniz\\AppData\\Local\\Programs\\Python\\Python310\\lib\\site-packages\\plotly\\basedatatypes.py:834\u001b[0m, in \u001b[0;36mBaseFigure._ipython_display_\u001b[1;34m(self)\u001b[0m\n\u001b[0;32m    831\u001b[0m \u001b[39mimport\u001b[39;00m \u001b[39mplotly\u001b[39;00m\u001b[39m.\u001b[39;00m\u001b[39mio\u001b[39;00m \u001b[39mas\u001b[39;00m \u001b[39mpio\u001b[39;00m\n\u001b[0;32m    833\u001b[0m \u001b[39mif\u001b[39;00m pio\u001b[39m.\u001b[39mrenderers\u001b[39m.\u001b[39mrender_on_display \u001b[39mand\u001b[39;00m pio\u001b[39m.\u001b[39mrenderers\u001b[39m.\u001b[39mdefault:\n\u001b[1;32m--> 834\u001b[0m     pio\u001b[39m.\u001b[39;49mshow(\u001b[39mself\u001b[39;49m)\n\u001b[0;32m    835\u001b[0m \u001b[39melse\u001b[39;00m:\n\u001b[0;32m    836\u001b[0m     \u001b[39mprint\u001b[39m(\u001b[39mrepr\u001b[39m(\u001b[39mself\u001b[39m))\n",
      "File \u001b[1;32mc:\\Users\\allysson.muniz\\AppData\\Local\\Programs\\Python\\Python310\\lib\\site-packages\\plotly\\io\\_renderers.py:396\u001b[0m, in \u001b[0;36mshow\u001b[1;34m(fig, renderer, validate, **kwargs)\u001b[0m\n\u001b[0;32m    391\u001b[0m         \u001b[39mraise\u001b[39;00m \u001b[39mValueError\u001b[39;00m(\n\u001b[0;32m    392\u001b[0m             \u001b[39m\"\u001b[39m\u001b[39mMime type rendering requires ipython but it is not installed\u001b[39m\u001b[39m\"\u001b[39m\n\u001b[0;32m    393\u001b[0m         )\n\u001b[0;32m    395\u001b[0m     \u001b[39mif\u001b[39;00m \u001b[39mnot\u001b[39;00m nbformat \u001b[39mor\u001b[39;00m Version(nbformat\u001b[39m.\u001b[39m__version__) \u001b[39m<\u001b[39m Version(\u001b[39m\"\u001b[39m\u001b[39m4.2.0\u001b[39m\u001b[39m\"\u001b[39m):\n\u001b[1;32m--> 396\u001b[0m         \u001b[39mraise\u001b[39;00m \u001b[39mValueError\u001b[39;00m(\n\u001b[0;32m    397\u001b[0m             \u001b[39m\"\u001b[39m\u001b[39mMime type rendering requires nbformat>=4.2.0 but it is not installed\u001b[39m\u001b[39m\"\u001b[39m\n\u001b[0;32m    398\u001b[0m         )\n\u001b[0;32m    400\u001b[0m     ipython_display\u001b[39m.\u001b[39mdisplay(bundle, raw\u001b[39m=\u001b[39m\u001b[39mTrue\u001b[39;00m)\n\u001b[0;32m    402\u001b[0m \u001b[39m# external renderers\u001b[39;00m\n",
      "\u001b[1;31mValueError\u001b[0m: Mime type rendering requires nbformat>=4.2.0 but it is not installed"
     ]
    },
    {
     "data": {
      "application/vnd.plotly.v1+json": {
       "config": {
        "plotlyServerURL": "https://plot.ly"
       },
       "data": [
        {
         "alignmentgroup": "True",
         "hovertemplate": "variable=data_att<br>value=%{x}<br>count=%{y}<extra></extra>",
         "legendgroup": "data_att",
         "marker": {
          "color": "#636efa",
          "pattern": {
           "shape": ""
          }
         },
         "name": "data_att",
         "offsetgroup": "data_att",
         "orientation": "v",
         "showlegend": true,
         "textposition": "auto",
         "type": "bar",
         "x": [
          "10/05/2023",
          "08/05/2023",
          "04/05/2023",
          "10/05/2023",
          "10/05/2023",
          "05/05/2023",
          null,
          "08/05/2023",
          "08/05/2023",
          "08/05/2023",
          null,
          "05/05/2023",
          null,
          null,
          null,
          "09/05/2023",
          "05/05/2023",
          "05/05/2023",
          null,
          null,
          "08/05/2023",
          "05/05/2023"
         ],
         "xaxis": "x",
         "y": [
          1,
          1,
          1,
          1,
          1,
          1,
          1,
          1,
          1,
          1,
          1,
          1,
          1,
          1,
          1,
          1,
          1,
          1,
          1,
          1,
          1,
          1
         ],
         "yaxis": "y"
        },
        {
         "alignmentgroup": "True",
         "hovertemplate": "variable=data_verif<br>value=%{x}<br>count=%{y}<extra></extra>",
         "legendgroup": "data_verif",
         "marker": {
          "color": "#EF553B",
          "pattern": {
           "shape": ""
          }
         },
         "name": "data_verif",
         "offsetgroup": "data_verif",
         "orientation": "v",
         "showlegend": true,
         "textposition": "auto",
         "type": "bar",
         "x": [
          "10/05/2023",
          "10/05/2023",
          "10/05/2023",
          "10/05/2023",
          "10/05/2023",
          "05/05/2023",
          null,
          "08/05/2023",
          "08/05/2023",
          "08/05/2023",
          null,
          "10/05/2023",
          null,
          null,
          null,
          "09/05/2023",
          "05/05/2023",
          "05/05/2023",
          null,
          null,
          "08/05/2023",
          "05/05/2023"
         ],
         "xaxis": "x",
         "y": [
          1,
          1,
          1,
          1,
          1,
          1,
          1,
          1,
          1,
          1,
          1,
          1,
          1,
          1,
          1,
          1,
          1,
          1,
          1,
          1,
          1,
          1
         ],
         "yaxis": "y"
        },
        {
         "alignmentgroup": "True",
         "hovertemplate": "variable=data_prox<br>value=%{x}<br>count=%{y}<extra></extra>",
         "legendgroup": "data_prox",
         "marker": {
          "color": "#00cc96",
          "pattern": {
           "shape": ""
          }
         },
         "name": "data_prox",
         "offsetgroup": "data_prox",
         "orientation": "v",
         "showlegend": true,
         "textposition": "auto",
         "type": "bar",
         "x": [
          "11/05/2023",
          "11/05/2023",
          "11/05/2023",
          "11/05/2023",
          "11/05/2023",
          "04/06/2023",
          "29/05/2023",
          "15/05/2023",
          "15/05/2023",
          "15/05/2023",
          null,
          "11/05/2023",
          null,
          "21/06/2023",
          "21/06/2023",
          "05/06/2023",
          "01/06/2023",
          "01/06/2023",
          "03/07/2023",
          "03/07/2023",
          "07/06/2023",
          "04/06/2023"
         ],
         "xaxis": "x",
         "y": [
          1,
          1,
          1,
          1,
          1,
          1,
          1,
          1,
          1,
          1,
          1,
          1,
          1,
          1,
          1,
          1,
          1,
          1,
          1,
          1,
          1,
          1
         ],
         "yaxis": "y"
        }
       ],
       "layout": {
        "barmode": "group",
        "legend": {
         "title": {
          "text": "variable"
         },
         "tracegroupgap": 0
        },
        "margin": {
         "t": 60
        },
        "template": {
         "data": {
          "bar": [
           {
            "error_x": {
             "color": "#2a3f5f"
            },
            "error_y": {
             "color": "#2a3f5f"
            },
            "marker": {
             "line": {
              "color": "#E5ECF6",
              "width": 0.5
             },
             "pattern": {
              "fillmode": "overlay",
              "size": 10,
              "solidity": 0.2
             }
            },
            "type": "bar"
           }
          ],
          "barpolar": [
           {
            "marker": {
             "line": {
              "color": "#E5ECF6",
              "width": 0.5
             },
             "pattern": {
              "fillmode": "overlay",
              "size": 10,
              "solidity": 0.2
             }
            },
            "type": "barpolar"
           }
          ],
          "carpet": [
           {
            "aaxis": {
             "endlinecolor": "#2a3f5f",
             "gridcolor": "white",
             "linecolor": "white",
             "minorgridcolor": "white",
             "startlinecolor": "#2a3f5f"
            },
            "baxis": {
             "endlinecolor": "#2a3f5f",
             "gridcolor": "white",
             "linecolor": "white",
             "minorgridcolor": "white",
             "startlinecolor": "#2a3f5f"
            },
            "type": "carpet"
           }
          ],
          "choropleth": [
           {
            "colorbar": {
             "outlinewidth": 0,
             "ticks": ""
            },
            "type": "choropleth"
           }
          ],
          "contour": [
           {
            "colorbar": {
             "outlinewidth": 0,
             "ticks": ""
            },
            "colorscale": [
             [
              0,
              "#0d0887"
             ],
             [
              0.1111111111111111,
              "#46039f"
             ],
             [
              0.2222222222222222,
              "#7201a8"
             ],
             [
              0.3333333333333333,
              "#9c179e"
             ],
             [
              0.4444444444444444,
              "#bd3786"
             ],
             [
              0.5555555555555556,
              "#d8576b"
             ],
             [
              0.6666666666666666,
              "#ed7953"
             ],
             [
              0.7777777777777778,
              "#fb9f3a"
             ],
             [
              0.8888888888888888,
              "#fdca26"
             ],
             [
              1,
              "#f0f921"
             ]
            ],
            "type": "contour"
           }
          ],
          "contourcarpet": [
           {
            "colorbar": {
             "outlinewidth": 0,
             "ticks": ""
            },
            "type": "contourcarpet"
           }
          ],
          "heatmap": [
           {
            "colorbar": {
             "outlinewidth": 0,
             "ticks": ""
            },
            "colorscale": [
             [
              0,
              "#0d0887"
             ],
             [
              0.1111111111111111,
              "#46039f"
             ],
             [
              0.2222222222222222,
              "#7201a8"
             ],
             [
              0.3333333333333333,
              "#9c179e"
             ],
             [
              0.4444444444444444,
              "#bd3786"
             ],
             [
              0.5555555555555556,
              "#d8576b"
             ],
             [
              0.6666666666666666,
              "#ed7953"
             ],
             [
              0.7777777777777778,
              "#fb9f3a"
             ],
             [
              0.8888888888888888,
              "#fdca26"
             ],
             [
              1,
              "#f0f921"
             ]
            ],
            "type": "heatmap"
           }
          ],
          "heatmapgl": [
           {
            "colorbar": {
             "outlinewidth": 0,
             "ticks": ""
            },
            "colorscale": [
             [
              0,
              "#0d0887"
             ],
             [
              0.1111111111111111,
              "#46039f"
             ],
             [
              0.2222222222222222,
              "#7201a8"
             ],
             [
              0.3333333333333333,
              "#9c179e"
             ],
             [
              0.4444444444444444,
              "#bd3786"
             ],
             [
              0.5555555555555556,
              "#d8576b"
             ],
             [
              0.6666666666666666,
              "#ed7953"
             ],
             [
              0.7777777777777778,
              "#fb9f3a"
             ],
             [
              0.8888888888888888,
              "#fdca26"
             ],
             [
              1,
              "#f0f921"
             ]
            ],
            "type": "heatmapgl"
           }
          ],
          "histogram": [
           {
            "marker": {
             "pattern": {
              "fillmode": "overlay",
              "size": 10,
              "solidity": 0.2
             }
            },
            "type": "histogram"
           }
          ],
          "histogram2d": [
           {
            "colorbar": {
             "outlinewidth": 0,
             "ticks": ""
            },
            "colorscale": [
             [
              0,
              "#0d0887"
             ],
             [
              0.1111111111111111,
              "#46039f"
             ],
             [
              0.2222222222222222,
              "#7201a8"
             ],
             [
              0.3333333333333333,
              "#9c179e"
             ],
             [
              0.4444444444444444,
              "#bd3786"
             ],
             [
              0.5555555555555556,
              "#d8576b"
             ],
             [
              0.6666666666666666,
              "#ed7953"
             ],
             [
              0.7777777777777778,
              "#fb9f3a"
             ],
             [
              0.8888888888888888,
              "#fdca26"
             ],
             [
              1,
              "#f0f921"
             ]
            ],
            "type": "histogram2d"
           }
          ],
          "histogram2dcontour": [
           {
            "colorbar": {
             "outlinewidth": 0,
             "ticks": ""
            },
            "colorscale": [
             [
              0,
              "#0d0887"
             ],
             [
              0.1111111111111111,
              "#46039f"
             ],
             [
              0.2222222222222222,
              "#7201a8"
             ],
             [
              0.3333333333333333,
              "#9c179e"
             ],
             [
              0.4444444444444444,
              "#bd3786"
             ],
             [
              0.5555555555555556,
              "#d8576b"
             ],
             [
              0.6666666666666666,
              "#ed7953"
             ],
             [
              0.7777777777777778,
              "#fb9f3a"
             ],
             [
              0.8888888888888888,
              "#fdca26"
             ],
             [
              1,
              "#f0f921"
             ]
            ],
            "type": "histogram2dcontour"
           }
          ],
          "mesh3d": [
           {
            "colorbar": {
             "outlinewidth": 0,
             "ticks": ""
            },
            "type": "mesh3d"
           }
          ],
          "parcoords": [
           {
            "line": {
             "colorbar": {
              "outlinewidth": 0,
              "ticks": ""
             }
            },
            "type": "parcoords"
           }
          ],
          "pie": [
           {
            "automargin": true,
            "type": "pie"
           }
          ],
          "scatter": [
           {
            "fillpattern": {
             "fillmode": "overlay",
             "size": 10,
             "solidity": 0.2
            },
            "type": "scatter"
           }
          ],
          "scatter3d": [
           {
            "line": {
             "colorbar": {
              "outlinewidth": 0,
              "ticks": ""
             }
            },
            "marker": {
             "colorbar": {
              "outlinewidth": 0,
              "ticks": ""
             }
            },
            "type": "scatter3d"
           }
          ],
          "scattercarpet": [
           {
            "marker": {
             "colorbar": {
              "outlinewidth": 0,
              "ticks": ""
             }
            },
            "type": "scattercarpet"
           }
          ],
          "scattergeo": [
           {
            "marker": {
             "colorbar": {
              "outlinewidth": 0,
              "ticks": ""
             }
            },
            "type": "scattergeo"
           }
          ],
          "scattergl": [
           {
            "marker": {
             "colorbar": {
              "outlinewidth": 0,
              "ticks": ""
             }
            },
            "type": "scattergl"
           }
          ],
          "scattermapbox": [
           {
            "marker": {
             "colorbar": {
              "outlinewidth": 0,
              "ticks": ""
             }
            },
            "type": "scattermapbox"
           }
          ],
          "scatterpolar": [
           {
            "marker": {
             "colorbar": {
              "outlinewidth": 0,
              "ticks": ""
             }
            },
            "type": "scatterpolar"
           }
          ],
          "scatterpolargl": [
           {
            "marker": {
             "colorbar": {
              "outlinewidth": 0,
              "ticks": ""
             }
            },
            "type": "scatterpolargl"
           }
          ],
          "scatterternary": [
           {
            "marker": {
             "colorbar": {
              "outlinewidth": 0,
              "ticks": ""
             }
            },
            "type": "scatterternary"
           }
          ],
          "surface": [
           {
            "colorbar": {
             "outlinewidth": 0,
             "ticks": ""
            },
            "colorscale": [
             [
              0,
              "#0d0887"
             ],
             [
              0.1111111111111111,
              "#46039f"
             ],
             [
              0.2222222222222222,
              "#7201a8"
             ],
             [
              0.3333333333333333,
              "#9c179e"
             ],
             [
              0.4444444444444444,
              "#bd3786"
             ],
             [
              0.5555555555555556,
              "#d8576b"
             ],
             [
              0.6666666666666666,
              "#ed7953"
             ],
             [
              0.7777777777777778,
              "#fb9f3a"
             ],
             [
              0.8888888888888888,
              "#fdca26"
             ],
             [
              1,
              "#f0f921"
             ]
            ],
            "type": "surface"
           }
          ],
          "table": [
           {
            "cells": {
             "fill": {
              "color": "#EBF0F8"
             },
             "line": {
              "color": "white"
             }
            },
            "header": {
             "fill": {
              "color": "#C8D4E3"
             },
             "line": {
              "color": "white"
             }
            },
            "type": "table"
           }
          ]
         },
         "layout": {
          "annotationdefaults": {
           "arrowcolor": "#2a3f5f",
           "arrowhead": 0,
           "arrowwidth": 1
          },
          "autotypenumbers": "strict",
          "coloraxis": {
           "colorbar": {
            "outlinewidth": 0,
            "ticks": ""
           }
          },
          "colorscale": {
           "diverging": [
            [
             0,
             "#8e0152"
            ],
            [
             0.1,
             "#c51b7d"
            ],
            [
             0.2,
             "#de77ae"
            ],
            [
             0.3,
             "#f1b6da"
            ],
            [
             0.4,
             "#fde0ef"
            ],
            [
             0.5,
             "#f7f7f7"
            ],
            [
             0.6,
             "#e6f5d0"
            ],
            [
             0.7,
             "#b8e186"
            ],
            [
             0.8,
             "#7fbc41"
            ],
            [
             0.9,
             "#4d9221"
            ],
            [
             1,
             "#276419"
            ]
           ],
           "sequential": [
            [
             0,
             "#0d0887"
            ],
            [
             0.1111111111111111,
             "#46039f"
            ],
            [
             0.2222222222222222,
             "#7201a8"
            ],
            [
             0.3333333333333333,
             "#9c179e"
            ],
            [
             0.4444444444444444,
             "#bd3786"
            ],
            [
             0.5555555555555556,
             "#d8576b"
            ],
            [
             0.6666666666666666,
             "#ed7953"
            ],
            [
             0.7777777777777778,
             "#fb9f3a"
            ],
            [
             0.8888888888888888,
             "#fdca26"
            ],
            [
             1,
             "#f0f921"
            ]
           ],
           "sequentialminus": [
            [
             0,
             "#0d0887"
            ],
            [
             0.1111111111111111,
             "#46039f"
            ],
            [
             0.2222222222222222,
             "#7201a8"
            ],
            [
             0.3333333333333333,
             "#9c179e"
            ],
            [
             0.4444444444444444,
             "#bd3786"
            ],
            [
             0.5555555555555556,
             "#d8576b"
            ],
            [
             0.6666666666666666,
             "#ed7953"
            ],
            [
             0.7777777777777778,
             "#fb9f3a"
            ],
            [
             0.8888888888888888,
             "#fdca26"
            ],
            [
             1,
             "#f0f921"
            ]
           ]
          },
          "colorway": [
           "#636efa",
           "#EF553B",
           "#00cc96",
           "#ab63fa",
           "#FFA15A",
           "#19d3f3",
           "#FF6692",
           "#B6E880",
           "#FF97FF",
           "#FECB52"
          ],
          "font": {
           "color": "#2a3f5f"
          },
          "geo": {
           "bgcolor": "white",
           "lakecolor": "white",
           "landcolor": "#E5ECF6",
           "showlakes": true,
           "showland": true,
           "subunitcolor": "white"
          },
          "hoverlabel": {
           "align": "left"
          },
          "hovermode": "closest",
          "mapbox": {
           "style": "light"
          },
          "paper_bgcolor": "white",
          "plot_bgcolor": "#E5ECF6",
          "polar": {
           "angularaxis": {
            "gridcolor": "white",
            "linecolor": "white",
            "ticks": ""
           },
           "bgcolor": "#E5ECF6",
           "radialaxis": {
            "gridcolor": "white",
            "linecolor": "white",
            "ticks": ""
           }
          },
          "scene": {
           "xaxis": {
            "backgroundcolor": "#E5ECF6",
            "gridcolor": "white",
            "gridwidth": 2,
            "linecolor": "white",
            "showbackground": true,
            "ticks": "",
            "zerolinecolor": "white"
           },
           "yaxis": {
            "backgroundcolor": "#E5ECF6",
            "gridcolor": "white",
            "gridwidth": 2,
            "linecolor": "white",
            "showbackground": true,
            "ticks": "",
            "zerolinecolor": "white"
           },
           "zaxis": {
            "backgroundcolor": "#E5ECF6",
            "gridcolor": "white",
            "gridwidth": 2,
            "linecolor": "white",
            "showbackground": true,
            "ticks": "",
            "zerolinecolor": "white"
           }
          },
          "shapedefaults": {
           "line": {
            "color": "#2a3f5f"
           }
          },
          "ternary": {
           "aaxis": {
            "gridcolor": "white",
            "linecolor": "white",
            "ticks": ""
           },
           "baxis": {
            "gridcolor": "white",
            "linecolor": "white",
            "ticks": ""
           },
           "bgcolor": "#E5ECF6",
           "caxis": {
            "gridcolor": "white",
            "linecolor": "white",
            "ticks": ""
           }
          },
          "title": {
           "x": 0.05
          },
          "xaxis": {
           "automargin": true,
           "gridcolor": "white",
           "linecolor": "white",
           "ticks": "",
           "title": {
            "standoff": 15
           },
           "zerolinecolor": "white",
           "zerolinewidth": 2
          },
          "yaxis": {
           "automargin": true,
           "gridcolor": "white",
           "linecolor": "white",
           "ticks": "",
           "title": {
            "standoff": 15
           },
           "zerolinecolor": "white",
           "zerolinewidth": 2
          }
         }
        },
        "xaxis": {
         "anchor": "y",
         "domain": [
          0,
          1
         ],
         "title": {
          "text": "value"
         }
        },
        "yaxis": {
         "anchor": "x",
         "domain": [
          0,
          1
         ],
         "title": {
          "text": "count"
         }
        }
       }
      },
      "text/html": [
       "<div>                        <script type=\"text/javascript\">window.PlotlyConfig = {MathJaxConfig: 'local'};</script>\n",
       "        <script charset=\"utf-8\" src=\"https://cdn.plot.ly/plotly-2.20.0.min.js\"></script>                <div id=\"b84ad0a4-0a10-4f82-84b3-967117d9b4c7\" class=\"plotly-graph-div\" style=\"height:100%; width:100%;\"></div>            <script type=\"text/javascript\">                                    window.PLOTLYENV=window.PLOTLYENV || {};                                    if (document.getElementById(\"b84ad0a4-0a10-4f82-84b3-967117d9b4c7\")) {                    Plotly.newPlot(                        \"b84ad0a4-0a10-4f82-84b3-967117d9b4c7\",                        [{\"alignmentgroup\":\"True\",\"hovertemplate\":\"variable=data_att<br>value=%{x}<br>count=%{y}<extra></extra>\",\"legendgroup\":\"data_att\",\"marker\":{\"color\":\"#636efa\",\"pattern\":{\"shape\":\"\"}},\"name\":\"data_att\",\"offsetgroup\":\"data_att\",\"orientation\":\"v\",\"showlegend\":true,\"textposition\":\"auto\",\"x\":[\"10/05/2023\",\"08/05/2023\",\"04/05/2023\",\"10/05/2023\",\"10/05/2023\",\"05/05/2023\",null,\"08/05/2023\",\"08/05/2023\",\"08/05/2023\",null,\"05/05/2023\",null,null,null,\"09/05/2023\",\"05/05/2023\",\"05/05/2023\",null,null,\"08/05/2023\",\"05/05/2023\"],\"xaxis\":\"x\",\"y\":[1,1,1,1,1,1,1,1,1,1,1,1,1,1,1,1,1,1,1,1,1,1],\"yaxis\":\"y\",\"type\":\"bar\"},{\"alignmentgroup\":\"True\",\"hovertemplate\":\"variable=data_verif<br>value=%{x}<br>count=%{y}<extra></extra>\",\"legendgroup\":\"data_verif\",\"marker\":{\"color\":\"#EF553B\",\"pattern\":{\"shape\":\"\"}},\"name\":\"data_verif\",\"offsetgroup\":\"data_verif\",\"orientation\":\"v\",\"showlegend\":true,\"textposition\":\"auto\",\"x\":[\"10/05/2023\",\"10/05/2023\",\"10/05/2023\",\"10/05/2023\",\"10/05/2023\",\"05/05/2023\",null,\"08/05/2023\",\"08/05/2023\",\"08/05/2023\",null,\"10/05/2023\",null,null,null,\"09/05/2023\",\"05/05/2023\",\"05/05/2023\",null,null,\"08/05/2023\",\"05/05/2023\"],\"xaxis\":\"x\",\"y\":[1,1,1,1,1,1,1,1,1,1,1,1,1,1,1,1,1,1,1,1,1,1],\"yaxis\":\"y\",\"type\":\"bar\"},{\"alignmentgroup\":\"True\",\"hovertemplate\":\"variable=data_prox<br>value=%{x}<br>count=%{y}<extra></extra>\",\"legendgroup\":\"data_prox\",\"marker\":{\"color\":\"#00cc96\",\"pattern\":{\"shape\":\"\"}},\"name\":\"data_prox\",\"offsetgroup\":\"data_prox\",\"orientation\":\"v\",\"showlegend\":true,\"textposition\":\"auto\",\"x\":[\"11/05/2023\",\"11/05/2023\",\"11/05/2023\",\"11/05/2023\",\"11/05/2023\",\"04/06/2023\",\"29/05/2023\",\"15/05/2023\",\"15/05/2023\",\"15/05/2023\",null,\"11/05/2023\",null,\"21/06/2023\",\"21/06/2023\",\"05/06/2023\",\"01/06/2023\",\"01/06/2023\",\"03/07/2023\",\"03/07/2023\",\"07/06/2023\",\"04/06/2023\"],\"xaxis\":\"x\",\"y\":[1,1,1,1,1,1,1,1,1,1,1,1,1,1,1,1,1,1,1,1,1,1],\"yaxis\":\"y\",\"type\":\"bar\"}],                        {\"template\":{\"data\":{\"histogram2dcontour\":[{\"type\":\"histogram2dcontour\",\"colorbar\":{\"outlinewidth\":0,\"ticks\":\"\"},\"colorscale\":[[0.0,\"#0d0887\"],[0.1111111111111111,\"#46039f\"],[0.2222222222222222,\"#7201a8\"],[0.3333333333333333,\"#9c179e\"],[0.4444444444444444,\"#bd3786\"],[0.5555555555555556,\"#d8576b\"],[0.6666666666666666,\"#ed7953\"],[0.7777777777777778,\"#fb9f3a\"],[0.8888888888888888,\"#fdca26\"],[1.0,\"#f0f921\"]]}],\"choropleth\":[{\"type\":\"choropleth\",\"colorbar\":{\"outlinewidth\":0,\"ticks\":\"\"}}],\"histogram2d\":[{\"type\":\"histogram2d\",\"colorbar\":{\"outlinewidth\":0,\"ticks\":\"\"},\"colorscale\":[[0.0,\"#0d0887\"],[0.1111111111111111,\"#46039f\"],[0.2222222222222222,\"#7201a8\"],[0.3333333333333333,\"#9c179e\"],[0.4444444444444444,\"#bd3786\"],[0.5555555555555556,\"#d8576b\"],[0.6666666666666666,\"#ed7953\"],[0.7777777777777778,\"#fb9f3a\"],[0.8888888888888888,\"#fdca26\"],[1.0,\"#f0f921\"]]}],\"heatmap\":[{\"type\":\"heatmap\",\"colorbar\":{\"outlinewidth\":0,\"ticks\":\"\"},\"colorscale\":[[0.0,\"#0d0887\"],[0.1111111111111111,\"#46039f\"],[0.2222222222222222,\"#7201a8\"],[0.3333333333333333,\"#9c179e\"],[0.4444444444444444,\"#bd3786\"],[0.5555555555555556,\"#d8576b\"],[0.6666666666666666,\"#ed7953\"],[0.7777777777777778,\"#fb9f3a\"],[0.8888888888888888,\"#fdca26\"],[1.0,\"#f0f921\"]]}],\"heatmapgl\":[{\"type\":\"heatmapgl\",\"colorbar\":{\"outlinewidth\":0,\"ticks\":\"\"},\"colorscale\":[[0.0,\"#0d0887\"],[0.1111111111111111,\"#46039f\"],[0.2222222222222222,\"#7201a8\"],[0.3333333333333333,\"#9c179e\"],[0.4444444444444444,\"#bd3786\"],[0.5555555555555556,\"#d8576b\"],[0.6666666666666666,\"#ed7953\"],[0.7777777777777778,\"#fb9f3a\"],[0.8888888888888888,\"#fdca26\"],[1.0,\"#f0f921\"]]}],\"contourcarpet\":[{\"type\":\"contourcarpet\",\"colorbar\":{\"outlinewidth\":0,\"ticks\":\"\"}}],\"contour\":[{\"type\":\"contour\",\"colorbar\":{\"outlinewidth\":0,\"ticks\":\"\"},\"colorscale\":[[0.0,\"#0d0887\"],[0.1111111111111111,\"#46039f\"],[0.2222222222222222,\"#7201a8\"],[0.3333333333333333,\"#9c179e\"],[0.4444444444444444,\"#bd3786\"],[0.5555555555555556,\"#d8576b\"],[0.6666666666666666,\"#ed7953\"],[0.7777777777777778,\"#fb9f3a\"],[0.8888888888888888,\"#fdca26\"],[1.0,\"#f0f921\"]]}],\"surface\":[{\"type\":\"surface\",\"colorbar\":{\"outlinewidth\":0,\"ticks\":\"\"},\"colorscale\":[[0.0,\"#0d0887\"],[0.1111111111111111,\"#46039f\"],[0.2222222222222222,\"#7201a8\"],[0.3333333333333333,\"#9c179e\"],[0.4444444444444444,\"#bd3786\"],[0.5555555555555556,\"#d8576b\"],[0.6666666666666666,\"#ed7953\"],[0.7777777777777778,\"#fb9f3a\"],[0.8888888888888888,\"#fdca26\"],[1.0,\"#f0f921\"]]}],\"mesh3d\":[{\"type\":\"mesh3d\",\"colorbar\":{\"outlinewidth\":0,\"ticks\":\"\"}}],\"scatter\":[{\"fillpattern\":{\"fillmode\":\"overlay\",\"size\":10,\"solidity\":0.2},\"type\":\"scatter\"}],\"parcoords\":[{\"type\":\"parcoords\",\"line\":{\"colorbar\":{\"outlinewidth\":0,\"ticks\":\"\"}}}],\"scatterpolargl\":[{\"type\":\"scatterpolargl\",\"marker\":{\"colorbar\":{\"outlinewidth\":0,\"ticks\":\"\"}}}],\"bar\":[{\"error_x\":{\"color\":\"#2a3f5f\"},\"error_y\":{\"color\":\"#2a3f5f\"},\"marker\":{\"line\":{\"color\":\"#E5ECF6\",\"width\":0.5},\"pattern\":{\"fillmode\":\"overlay\",\"size\":10,\"solidity\":0.2}},\"type\":\"bar\"}],\"scattergeo\":[{\"type\":\"scattergeo\",\"marker\":{\"colorbar\":{\"outlinewidth\":0,\"ticks\":\"\"}}}],\"scatterpolar\":[{\"type\":\"scatterpolar\",\"marker\":{\"colorbar\":{\"outlinewidth\":0,\"ticks\":\"\"}}}],\"histogram\":[{\"marker\":{\"pattern\":{\"fillmode\":\"overlay\",\"size\":10,\"solidity\":0.2}},\"type\":\"histogram\"}],\"scattergl\":[{\"type\":\"scattergl\",\"marker\":{\"colorbar\":{\"outlinewidth\":0,\"ticks\":\"\"}}}],\"scatter3d\":[{\"type\":\"scatter3d\",\"line\":{\"colorbar\":{\"outlinewidth\":0,\"ticks\":\"\"}},\"marker\":{\"colorbar\":{\"outlinewidth\":0,\"ticks\":\"\"}}}],\"scattermapbox\":[{\"type\":\"scattermapbox\",\"marker\":{\"colorbar\":{\"outlinewidth\":0,\"ticks\":\"\"}}}],\"scatterternary\":[{\"type\":\"scatterternary\",\"marker\":{\"colorbar\":{\"outlinewidth\":0,\"ticks\":\"\"}}}],\"scattercarpet\":[{\"type\":\"scattercarpet\",\"marker\":{\"colorbar\":{\"outlinewidth\":0,\"ticks\":\"\"}}}],\"carpet\":[{\"aaxis\":{\"endlinecolor\":\"#2a3f5f\",\"gridcolor\":\"white\",\"linecolor\":\"white\",\"minorgridcolor\":\"white\",\"startlinecolor\":\"#2a3f5f\"},\"baxis\":{\"endlinecolor\":\"#2a3f5f\",\"gridcolor\":\"white\",\"linecolor\":\"white\",\"minorgridcolor\":\"white\",\"startlinecolor\":\"#2a3f5f\"},\"type\":\"carpet\"}],\"table\":[{\"cells\":{\"fill\":{\"color\":\"#EBF0F8\"},\"line\":{\"color\":\"white\"}},\"header\":{\"fill\":{\"color\":\"#C8D4E3\"},\"line\":{\"color\":\"white\"}},\"type\":\"table\"}],\"barpolar\":[{\"marker\":{\"line\":{\"color\":\"#E5ECF6\",\"width\":0.5},\"pattern\":{\"fillmode\":\"overlay\",\"size\":10,\"solidity\":0.2}},\"type\":\"barpolar\"}],\"pie\":[{\"automargin\":true,\"type\":\"pie\"}]},\"layout\":{\"autotypenumbers\":\"strict\",\"colorway\":[\"#636efa\",\"#EF553B\",\"#00cc96\",\"#ab63fa\",\"#FFA15A\",\"#19d3f3\",\"#FF6692\",\"#B6E880\",\"#FF97FF\",\"#FECB52\"],\"font\":{\"color\":\"#2a3f5f\"},\"hovermode\":\"closest\",\"hoverlabel\":{\"align\":\"left\"},\"paper_bgcolor\":\"white\",\"plot_bgcolor\":\"#E5ECF6\",\"polar\":{\"bgcolor\":\"#E5ECF6\",\"angularaxis\":{\"gridcolor\":\"white\",\"linecolor\":\"white\",\"ticks\":\"\"},\"radialaxis\":{\"gridcolor\":\"white\",\"linecolor\":\"white\",\"ticks\":\"\"}},\"ternary\":{\"bgcolor\":\"#E5ECF6\",\"aaxis\":{\"gridcolor\":\"white\",\"linecolor\":\"white\",\"ticks\":\"\"},\"baxis\":{\"gridcolor\":\"white\",\"linecolor\":\"white\",\"ticks\":\"\"},\"caxis\":{\"gridcolor\":\"white\",\"linecolor\":\"white\",\"ticks\":\"\"}},\"coloraxis\":{\"colorbar\":{\"outlinewidth\":0,\"ticks\":\"\"}},\"colorscale\":{\"sequential\":[[0.0,\"#0d0887\"],[0.1111111111111111,\"#46039f\"],[0.2222222222222222,\"#7201a8\"],[0.3333333333333333,\"#9c179e\"],[0.4444444444444444,\"#bd3786\"],[0.5555555555555556,\"#d8576b\"],[0.6666666666666666,\"#ed7953\"],[0.7777777777777778,\"#fb9f3a\"],[0.8888888888888888,\"#fdca26\"],[1.0,\"#f0f921\"]],\"sequentialminus\":[[0.0,\"#0d0887\"],[0.1111111111111111,\"#46039f\"],[0.2222222222222222,\"#7201a8\"],[0.3333333333333333,\"#9c179e\"],[0.4444444444444444,\"#bd3786\"],[0.5555555555555556,\"#d8576b\"],[0.6666666666666666,\"#ed7953\"],[0.7777777777777778,\"#fb9f3a\"],[0.8888888888888888,\"#fdca26\"],[1.0,\"#f0f921\"]],\"diverging\":[[0,\"#8e0152\"],[0.1,\"#c51b7d\"],[0.2,\"#de77ae\"],[0.3,\"#f1b6da\"],[0.4,\"#fde0ef\"],[0.5,\"#f7f7f7\"],[0.6,\"#e6f5d0\"],[0.7,\"#b8e186\"],[0.8,\"#7fbc41\"],[0.9,\"#4d9221\"],[1,\"#276419\"]]},\"xaxis\":{\"gridcolor\":\"white\",\"linecolor\":\"white\",\"ticks\":\"\",\"title\":{\"standoff\":15},\"zerolinecolor\":\"white\",\"automargin\":true,\"zerolinewidth\":2},\"yaxis\":{\"gridcolor\":\"white\",\"linecolor\":\"white\",\"ticks\":\"\",\"title\":{\"standoff\":15},\"zerolinecolor\":\"white\",\"automargin\":true,\"zerolinewidth\":2},\"scene\":{\"xaxis\":{\"backgroundcolor\":\"#E5ECF6\",\"gridcolor\":\"white\",\"linecolor\":\"white\",\"showbackground\":true,\"ticks\":\"\",\"zerolinecolor\":\"white\",\"gridwidth\":2},\"yaxis\":{\"backgroundcolor\":\"#E5ECF6\",\"gridcolor\":\"white\",\"linecolor\":\"white\",\"showbackground\":true,\"ticks\":\"\",\"zerolinecolor\":\"white\",\"gridwidth\":2},\"zaxis\":{\"backgroundcolor\":\"#E5ECF6\",\"gridcolor\":\"white\",\"linecolor\":\"white\",\"showbackground\":true,\"ticks\":\"\",\"zerolinecolor\":\"white\",\"gridwidth\":2}},\"shapedefaults\":{\"line\":{\"color\":\"#2a3f5f\"}},\"annotationdefaults\":{\"arrowcolor\":\"#2a3f5f\",\"arrowhead\":0,\"arrowwidth\":1},\"geo\":{\"bgcolor\":\"white\",\"landcolor\":\"#E5ECF6\",\"subunitcolor\":\"white\",\"showland\":true,\"showlakes\":true,\"lakecolor\":\"white\"},\"title\":{\"x\":0.05},\"mapbox\":{\"style\":\"light\"}}},\"xaxis\":{\"anchor\":\"y\",\"domain\":[0.0,1.0],\"title\":{\"text\":\"value\"}},\"yaxis\":{\"anchor\":\"x\",\"domain\":[0.0,1.0],\"title\":{\"text\":\"count\"}},\"legend\":{\"title\":{\"text\":\"variable\"},\"tracegroupgap\":0},\"margin\":{\"t\":60},\"barmode\":\"group\"},                        {\"responsive\": true}                    )                };                            </script>        </div>"
      ],
      "text/plain": [
       "Figure({\n",
       "    'data': [{'alignmentgroup': 'True',\n",
       "              'hovertemplate': 'variable=data_att<br>value=%{x}<br>count=%{y}<extra></extra>',\n",
       "              'legendgroup': 'data_att',\n",
       "              'marker': {'color': '#636efa', 'pattern': {'shape': ''}},\n",
       "              'name': 'data_att',\n",
       "              'offsetgroup': 'data_att',\n",
       "              'orientation': 'v',\n",
       "              'showlegend': True,\n",
       "              'textposition': 'auto',\n",
       "              'type': 'bar',\n",
       "              'x': array(['10/05/2023', '08/05/2023', '04/05/2023', '10/05/2023', '10/05/2023',\n",
       "                          '05/05/2023', nan, '08/05/2023', '08/05/2023', '08/05/2023', nan,\n",
       "                          '05/05/2023', nan, nan, nan, '09/05/2023', '05/05/2023', '05/05/2023',\n",
       "                          nan, nan, '08/05/2023', '05/05/2023'], dtype=object),\n",
       "              'xaxis': 'x',\n",
       "              'y': array([1, 1, 1, 1, 1, 1, 1, 1, 1, 1, 1, 1, 1, 1, 1, 1, 1, 1, 1, 1, 1, 1],\n",
       "                         dtype=int64),\n",
       "              'yaxis': 'y'},\n",
       "             {'alignmentgroup': 'True',\n",
       "              'hovertemplate': 'variable=data_verif<br>value=%{x}<br>count=%{y}<extra></extra>',\n",
       "              'legendgroup': 'data_verif',\n",
       "              'marker': {'color': '#EF553B', 'pattern': {'shape': ''}},\n",
       "              'name': 'data_verif',\n",
       "              'offsetgroup': 'data_verif',\n",
       "              'orientation': 'v',\n",
       "              'showlegend': True,\n",
       "              'textposition': 'auto',\n",
       "              'type': 'bar',\n",
       "              'x': array(['10/05/2023', '10/05/2023', '10/05/2023', '10/05/2023', '10/05/2023',\n",
       "                          '05/05/2023', nan, '08/05/2023', '08/05/2023', '08/05/2023', nan,\n",
       "                          '10/05/2023', nan, nan, nan, '09/05/2023', '05/05/2023', '05/05/2023',\n",
       "                          nan, nan, '08/05/2023', '05/05/2023'], dtype=object),\n",
       "              'xaxis': 'x',\n",
       "              'y': array([1, 1, 1, 1, 1, 1, 1, 1, 1, 1, 1, 1, 1, 1, 1, 1, 1, 1, 1, 1, 1, 1],\n",
       "                         dtype=int64),\n",
       "              'yaxis': 'y'},\n",
       "             {'alignmentgroup': 'True',\n",
       "              'hovertemplate': 'variable=data_prox<br>value=%{x}<br>count=%{y}<extra></extra>',\n",
       "              'legendgroup': 'data_prox',\n",
       "              'marker': {'color': '#00cc96', 'pattern': {'shape': ''}},\n",
       "              'name': 'data_prox',\n",
       "              'offsetgroup': 'data_prox',\n",
       "              'orientation': 'v',\n",
       "              'showlegend': True,\n",
       "              'textposition': 'auto',\n",
       "              'type': 'bar',\n",
       "              'x': array(['11/05/2023', '11/05/2023', '11/05/2023', '11/05/2023', '11/05/2023',\n",
       "                          '04/06/2023', '29/05/2023', '15/05/2023', '15/05/2023', '15/05/2023',\n",
       "                          nan, '11/05/2023', nan, '21/06/2023', '21/06/2023', '05/06/2023',\n",
       "                          '01/06/2023', '01/06/2023', '03/07/2023', '03/07/2023', '07/06/2023',\n",
       "                          '04/06/2023'], dtype=object),\n",
       "              'xaxis': 'x',\n",
       "              'y': array([1, 1, 1, 1, 1, 1, 1, 1, 1, 1, 1, 1, 1, 1, 1, 1, 1, 1, 1, 1, 1, 1],\n",
       "                         dtype=int64),\n",
       "              'yaxis': 'y'}],\n",
       "    'layout': {'barmode': 'group',\n",
       "               'legend': {'title': {'text': 'variable'}, 'tracegroupgap': 0},\n",
       "               'margin': {'t': 60},\n",
       "               'template': '...',\n",
       "               'xaxis': {'anchor': 'y', 'domain': [0.0, 1.0], 'title': {'text': 'value'}},\n",
       "               'yaxis': {'anchor': 'x', 'domain': [0.0, 1.0], 'title': {'text': 'count'}}}\n",
       "})"
      ]
     },
     "execution_count": 4,
     "metadata": {},
     "output_type": "execute_result"
    }
   ],
   "source": [
    "fig"
   ]
  },
  {
   "cell_type": "code",
   "execution_count": null,
   "metadata": {},
   "outputs": [],
   "source": [
    "# Gerar o arquivo HTML com o gráfico\n",
    "fig.write_html('dashboard.html')"
   ]
  }
 ],
 "metadata": {
  "kernelspec": {
   "display_name": "env",
   "language": "python",
   "name": "python3"
  },
  "language_info": {
   "codemirror_mode": {
    "name": "ipython",
    "version": 3
   },
   "file_extension": ".py",
   "mimetype": "text/x-python",
   "name": "python",
   "nbconvert_exporter": "python",
   "pygments_lexer": "ipython3",
   "version": "3.10.8"
  },
  "orig_nbformat": 4
 },
 "nbformat": 4,
 "nbformat_minor": 2
}
